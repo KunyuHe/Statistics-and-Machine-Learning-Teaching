{
 "cells": [
  {
   "cell_type": "code",
   "execution_count": 1,
   "metadata": {
    "ExecuteTime": {
     "end_time": "2020-04-18T16:30:48.689511Z",
     "start_time": "2020-04-18T16:30:48.164771Z"
    }
   },
   "outputs": [],
   "source": [
    "import numpy as np\n",
    "from sklearn.base import BaseEstimator, ClassifierMixin\n",
    "from sklearn.datasets import load_iris\n",
    "from sklearn.linear_model import LogisticRegression\n",
    "from sklearn.model_selection import train_test_split"
   ]
  },
  {
   "cell_type": "code",
   "execution_count": 2,
   "metadata": {
    "ExecuteTime": {
     "end_time": "2020-04-18T16:30:48.694355Z",
     "start_time": "2020-04-18T16:30:48.691329Z"
    }
   },
   "outputs": [],
   "source": [
    "iris_dict = load_iris()"
   ]
  },
  {
   "cell_type": "code",
   "execution_count": 3,
   "metadata": {
    "ExecuteTime": {
     "end_time": "2020-04-18T16:30:48.707327Z",
     "start_time": "2020-04-18T16:30:48.695355Z"
    }
   },
   "outputs": [
    {
     "name": "stdout",
     "output_type": "stream",
     "text": [
      ".. _iris_dataset:\n",
      "\n",
      "Iris plants dataset\n",
      "--------------------\n",
      "\n",
      "**Data Set Characteristics:**\n",
      "\n",
      "    :Number of Instances: 150 (50 in each of three classes)\n",
      "    :Number of Attributes: 4 numeric, predictive attributes and the class\n",
      "    :Attribute Information:\n",
      "        - sepal length in cm\n",
      "        - sepal width in cm\n",
      "        - petal length in cm\n",
      "        - petal width in cm\n",
      "        - class:\n",
      "                - Iris-Setosa\n",
      "                - Iris-Versicolour\n",
      "                - Iris-Virginica\n",
      "                \n",
      "    :Summary Statistics:\n",
      "\n",
      "    ============== ==== ==== ======= ===== ====================\n",
      "                    Min  Max   Mean    SD   Class Correlation\n",
      "    ============== ==== ==== ======= ===== ====================\n",
      "    sepal length:   4.3  7.9   5.84   0.83    0.7826\n",
      "    sepal width:    2.0  4.4   3.05   0.43   -0.4194\n",
      "    petal length:   1.0  6.9   3.76   1.76    0.9490  (high!)\n",
      "    petal width:    0.1  2.5   1.20   0.76    0.9565  (high!)\n",
      "    ============== ==== ==== ======= ===== ====================\n",
      "\n",
      "    :Missing Attribute Values: None\n",
      "    :Class Distribution: 33.3% for each of 3 classes.\n",
      "    :Creator: R.A. Fisher\n",
      "    :Donor: Michael Marshall (MARSHALL%PLU@io.arc.nasa.gov)\n",
      "    :Date: July, 1988\n",
      "\n",
      "The famous Iris database, first used by Sir R.A. Fisher. The dataset is taken\n",
      "from Fisher's paper. Note that it's the same as in R, but not as in the UCI\n",
      "Machine Learning Repository, which has two wrong data points.\n",
      "\n",
      "This is perhaps the best known database to be found in the\n",
      "pattern recognition literature.  Fisher's paper is a classic in the field and\n",
      "is referenced frequently to this day.  (See Duda & Hart, for example.)  The\n",
      "data set contains 3 classes of 50 instances each, where each class refers to a\n",
      "type of iris plant.  One class is linearly separable from the other 2; the\n",
      "latter are NOT linearly separable from each other.\n",
      "\n",
      ".. topic:: References\n",
      "\n",
      "   - Fisher, R.A. \"The use of multiple measurements in taxonomic problems\"\n",
      "     Annual Eugenics, 7, Part II, 179-188 (1936); also in \"Contributions to\n",
      "     Mathematical Statistics\" (John Wiley, NY, 1950).\n",
      "   - Duda, R.O., & Hart, P.E. (1973) Pattern Classification and Scene Analysis.\n",
      "     (Q327.D83) John Wiley & Sons.  ISBN 0-471-22361-1.  See page 218.\n",
      "   - Dasarathy, B.V. (1980) \"Nosing Around the Neighborhood: A New System\n",
      "     Structure and Classification Rule for Recognition in Partially Exposed\n",
      "     Environments\".  IEEE Transactions on Pattern Analysis and Machine\n",
      "     Intelligence, Vol. PAMI-2, No. 1, 67-71.\n",
      "   - Gates, G.W. (1972) \"The Reduced Nearest Neighbor Rule\".  IEEE Transactions\n",
      "     on Information Theory, May 1972, 431-433.\n",
      "   - See also: 1988 MLC Proceedings, 54-64.  Cheeseman et al\"s AUTOCLASS II\n",
      "     conceptual clustering system finds 3 classes in the data.\n",
      "   - Many, many more ...\n"
     ]
    }
   ],
   "source": [
    "print((iris_dict[\"DESCR\"]))"
   ]
  },
  {
   "cell_type": "code",
   "execution_count": 4,
   "metadata": {
    "ExecuteTime": {
     "end_time": "2020-04-18T16:30:48.735210Z",
     "start_time": "2020-04-18T16:30:48.732219Z"
    }
   },
   "outputs": [],
   "source": [
    "X = iris_dict['data']\n",
    "y = iris_dict['target']"
   ]
  },
  {
   "cell_type": "markdown",
   "metadata": {},
   "source": [
    "# Train Test Split: Shuffle vs. Stratified"
   ]
  },
  {
   "cell_type": "markdown",
   "metadata": {},
   "source": [
    "- Shuffle"
   ]
  },
  {
   "cell_type": "code",
   "execution_count": 5,
   "metadata": {
    "ExecuteTime": {
     "end_time": "2020-04-18T16:30:49.278804Z",
     "start_time": "2020-04-18T16:30:49.274769Z"
    }
   },
   "outputs": [],
   "source": [
    "X_train, X_test, y_train, y_test = train_test_split(X,\n",
    "                                                    y,\n",
    "                                                    test_size=0.2,\n",
    "                                                    random_state=123)"
   ]
  },
  {
   "cell_type": "code",
   "execution_count": 6,
   "metadata": {
    "ExecuteTime": {
     "end_time": "2020-04-18T16:30:49.474281Z",
     "start_time": "2020-04-18T16:30:49.464262Z"
    },
    "scrolled": true
   },
   "outputs": [
    {
     "data": {
      "text/plain": [
       "array([[ 0, 37],\n",
       "       [ 1, 44],\n",
       "       [ 2, 39]], dtype=int64)"
      ]
     },
     "execution_count": 6,
     "metadata": {},
     "output_type": "execute_result"
    }
   ],
   "source": [
    "unique, counts = np.unique(y_train, return_counts=True)\n",
    "np.c_[unique, counts]"
   ]
  },
  {
   "cell_type": "markdown",
   "metadata": {},
   "source": [
    "- Stratified (preferred)"
   ]
  },
  {
   "cell_type": "code",
   "execution_count": 7,
   "metadata": {
    "ExecuteTime": {
     "end_time": "2020-04-18T16:30:50.260769Z",
     "start_time": "2020-04-18T16:30:50.256779Z"
    }
   },
   "outputs": [],
   "source": [
    "X_train, X_test, y_train, y_test = train_test_split(X,\n",
    "                                                    y,\n",
    "                                                    test_size=0.2,\n",
    "                                                    random_state=123,\n",
    "                                                    stratify=y)"
   ]
  },
  {
   "cell_type": "code",
   "execution_count": 8,
   "metadata": {
    "ExecuteTime": {
     "end_time": "2020-04-18T16:30:50.627786Z",
     "start_time": "2020-04-18T16:30:50.622826Z"
    }
   },
   "outputs": [
    {
     "data": {
      "text/plain": [
       "array([[ 0, 40],\n",
       "       [ 1, 40],\n",
       "       [ 2, 40]], dtype=int64)"
      ]
     },
     "execution_count": 8,
     "metadata": {},
     "output_type": "execute_result"
    }
   ],
   "source": [
    "unique, counts = np.unique(y_train, return_counts=True)\n",
    "np.c_[unique, counts]"
   ]
  },
  {
   "cell_type": "markdown",
   "metadata": {},
   "source": [
    "# EDA"
   ]
  },
  {
   "cell_type": "code",
   "execution_count": 9,
   "metadata": {
    "ExecuteTime": {
     "end_time": "2020-04-18T16:30:51.200379Z",
     "start_time": "2020-04-18T16:30:51.192367Z"
    },
    "scrolled": true
   },
   "outputs": [
    {
     "data": {
      "text/plain": [
       "array([[ 1.        , -0.12706082,  0.85849357,  0.80184873,  0.78598684],\n",
       "       [-0.12706082,  1.        , -0.45320563, -0.37919441, -0.45256929],\n",
       "       [ 0.85849357, -0.45320563,  1.        ,  0.95881146,  0.95512923],\n",
       "       [ 0.80184873, -0.37919441,  0.95881146,  1.        ,  0.95649697],\n",
       "       [ 0.78598684, -0.45256929,  0.95512923,  0.95649697,  1.        ]])"
      ]
     },
     "execution_count": 9,
     "metadata": {},
     "output_type": "execute_result"
    }
   ],
   "source": [
    "np.corrcoef([X_train[:, i] for i in range(X_train.shape[1])], y_train)"
   ]
  },
  {
   "cell_type": "markdown",
   "metadata": {},
   "source": [
    "# Multiclass Classification with Logistic Regression"
   ]
  },
  {
   "cell_type": "markdown",
   "metadata": {},
   "source": [
    "## One-versus-All (OvA):"
   ]
  },
  {
   "cell_type": "markdown",
   "metadata": {},
   "source": [
    "k binary classifiers."
   ]
  },
  {
   "cell_type": "markdown",
   "metadata": {},
   "source": [
    "### OvA Implementation"
   ]
  },
  {
   "cell_type": "code",
   "execution_count": 10,
   "metadata": {
    "ExecuteTime": {
     "end_time": "2020-04-18T16:30:52.665842Z",
     "start_time": "2020-04-18T16:30:52.657882Z"
    }
   },
   "outputs": [],
   "source": [
    "class OvALogisticClf(BaseEstimator, ClassifierMixin):\n",
    "    def __init__(self, random_state=123):\n",
    "        self.seed = random_state\n",
    "        self.cls_model = dict()\n",
    "    \n",
    "    def fit(self, X, y):\n",
    "        for cls in np.unique(y):\n",
    "            y_ = np.where(y != cls, -1, cls)\n",
    "            model = LogisticRegression(random_state=self.seed)\n",
    "            model.fit(X, y_)\n",
    "            self.cls_model[cls] = model\n",
    "    \n",
    "    def get_pred_probas(self, X):\n",
    "        pred_probs = np.zeros(shape=(X.shape[0], 1))\n",
    "\n",
    "        for cls, model in list(self.cls_model.items()):\n",
    "            pred_prob = model.predict_proba(X)[:, 1]\n",
    "            # print(pred_prob)\n",
    "            pred_probs = np.c_[pred_probs, pred_prob]\n",
    "        \n",
    "        return pred_probs[:, 1:]\n",
    "    \n",
    "    def predict(self, X):\n",
    "        pred_probs = self.get_pred_probas(X)\n",
    "        \n",
    "        return np.argmax(pred_probs, axis=1)\n",
    "    \n",
    "    def predict_proba(self, X):\n",
    "        pred_probs = self.get_pred_probas(X)\n",
    "        \n",
    "        return np.amax(pred_probs, axis=1)"
   ]
  },
  {
   "cell_type": "code",
   "execution_count": 11,
   "metadata": {
    "ExecuteTime": {
     "end_time": "2020-04-18T16:30:53.041818Z",
     "start_time": "2020-04-18T16:30:53.021843Z"
    }
   },
   "outputs": [
    {
     "data": {
      "text/plain": [
       "array([1, 0, 1, 0, 0, 2, 0, 0, 2, 1, 0, 0, 0, 2, 0, 2, 0, 2, 1, 0, 0, 1,\n",
       "       2, 2, 1, 1, 0, 2, 1, 2, 1, 2, 2, 1, 0, 2, 1, 1, 2, 1, 0, 0, 2, 2,\n",
       "       2, 2, 0, 1, 0, 0, 1, 2, 2, 1, 2, 0, 2, 2, 0, 1, 0, 1, 1, 0, 0, 0,\n",
       "       1, 2, 0, 2, 1, 1, 2, 2, 0, 2, 0, 1, 2, 2, 2, 0, 1, 0, 0, 1, 1, 2,\n",
       "       1, 2, 2, 2, 2, 0, 1, 1, 1, 0, 0, 1, 2, 1, 1, 2, 0, 0, 2, 1, 2, 2,\n",
       "       1, 1, 0, 1, 0, 0, 2, 2, 0, 1], dtype=int64)"
      ]
     },
     "execution_count": 11,
     "metadata": {},
     "output_type": "execute_result"
    }
   ],
   "source": [
    "ovamodel = OvALogisticClf()\n",
    "ovamodel.fit(X_train, y_train)\n",
    "train_preds = ovamodel.predict(X_train)\n",
    "train_preds"
   ]
  },
  {
   "cell_type": "markdown",
   "metadata": {},
   "source": [
    "Compare with sklearn default implementation under the hood."
   ]
  },
  {
   "cell_type": "code",
   "execution_count": 12,
   "metadata": {
    "ExecuteTime": {
     "end_time": "2020-04-18T16:31:03.580827Z",
     "start_time": "2020-04-18T16:31:03.562900Z"
    }
   },
   "outputs": [],
   "source": [
    "model = LogisticRegression(random_state=123, multi_class=\"ovr\")\n",
    "model.fit(X_train, y_train)\n",
    "sklearn_train_preds = model.predict(X_train)"
   ]
  },
  {
   "cell_type": "code",
   "execution_count": 13,
   "metadata": {
    "ExecuteTime": {
     "end_time": "2020-04-18T16:31:05.090197Z",
     "start_time": "2020-04-18T16:31:05.086207Z"
    }
   },
   "outputs": [
    {
     "data": {
      "text/plain": [
       "True"
      ]
     },
     "execution_count": 13,
     "metadata": {},
     "output_type": "execute_result"
    }
   ],
   "source": [
    "(sklearn_train_preds == train_preds).all()"
   ]
  },
  {
   "cell_type": "markdown",
   "metadata": {},
   "source": [
    "### Evaluation"
   ]
  },
  {
   "cell_type": "code",
   "execution_count": 14,
   "metadata": {
    "ExecuteTime": {
     "end_time": "2020-04-18T16:31:07.874096Z",
     "start_time": "2020-04-18T16:31:07.872070Z"
    }
   },
   "outputs": [],
   "source": [
    "from sklearn.metrics import balanced_accuracy_score, confusion_matrix"
   ]
  },
  {
   "cell_type": "code",
   "execution_count": 15,
   "metadata": {
    "ExecuteTime": {
     "end_time": "2020-04-18T16:31:08.475221Z",
     "start_time": "2020-04-18T16:31:08.408400Z"
    }
   },
   "outputs": [
    {
     "data": {
      "text/plain": [
       "0.9"
      ]
     },
     "execution_count": 15,
     "metadata": {},
     "output_type": "execute_result"
    }
   ],
   "source": [
    "balanced_accuracy_score(y_test, ovamodel.predict(X_test))"
   ]
  },
  {
   "cell_type": "code",
   "execution_count": 16,
   "metadata": {
    "ExecuteTime": {
     "end_time": "2020-04-18T16:31:15.240199Z",
     "start_time": "2020-04-18T16:31:15.235249Z"
    }
   },
   "outputs": [
    {
     "data": {
      "text/plain": [
       "array([[10,  0,  0],\n",
       "       [ 0,  7,  3],\n",
       "       [ 0,  0, 10]], dtype=int64)"
      ]
     },
     "execution_count": 16,
     "metadata": {},
     "output_type": "execute_result"
    }
   ],
   "source": [
    "confusion_matrix(y_test, ovamodel.predict(X_test))"
   ]
  },
  {
   "cell_type": "markdown",
   "metadata": {},
   "source": [
    "## One-versus-One (OvO):"
   ]
  },
  {
   "cell_type": "markdown",
   "metadata": {},
   "source": [
    "k*(k-1)/2 binary classifers."
   ]
  },
  {
   "cell_type": "code",
   "execution_count": null,
   "metadata": {},
   "outputs": [],
   "source": []
  }
 ],
 "metadata": {
  "kernelspec": {
   "display_name": "Python 3",
   "language": "python",
   "name": "python3"
  },
  "language_info": {
   "codemirror_mode": {
    "name": "ipython",
    "version": 3
   },
   "file_extension": ".py",
   "mimetype": "text/x-python",
   "name": "python",
   "nbconvert_exporter": "python",
   "pygments_lexer": "ipython3",
   "version": "3.8.2"
  },
  "latex_envs": {
   "LaTeX_envs_menu_present": true,
   "autoclose": false,
   "autocomplete": true,
   "bibliofile": "biblio.bib",
   "cite_by": "apalike",
   "current_citInitial": 1,
   "eqLabelWithNumbers": true,
   "eqNumInitial": 1,
   "hotkeys": {
    "equation": "Ctrl-E",
    "itemize": "Ctrl-I"
   },
   "labels_anchors": false,
   "latex_user_defs": false,
   "report_style_numbering": false,
   "user_envs_cfg": false
  },
  "toc": {
   "base_numbering": 1,
   "nav_menu": {},
   "number_sections": false,
   "sideBar": true,
   "skip_h1_title": false,
   "title_cell": "Table of Contents",
   "title_sidebar": "Contents",
   "toc_cell": false,
   "toc_position": {},
   "toc_section_display": true,
   "toc_window_display": false
  }
 },
 "nbformat": 4,
 "nbformat_minor": 2
}
