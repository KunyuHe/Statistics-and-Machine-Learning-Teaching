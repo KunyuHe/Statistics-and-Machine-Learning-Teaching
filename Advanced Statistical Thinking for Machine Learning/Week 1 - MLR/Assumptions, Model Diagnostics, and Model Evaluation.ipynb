{
 "cells": [
  {
   "cell_type": "markdown",
   "metadata": {},
   "source": [
    "# MLR: Assumptions, Model Diagnostics, and Model Evaluation"
   ]
  },
  {
   "cell_type": "markdown",
   "metadata": {},
   "source": [
    "#### Author: Kunyu He, CAPP'20"
   ]
  },
  {
   "cell_type": "markdown",
   "metadata": {},
   "source": [
    "## 0. Preparation"
   ]
  },
  {
   "cell_type": "code",
   "execution_count": 1,
   "metadata": {
    "ExecuteTime": {
     "end_time": "2020-04-04T01:23:15.502165Z",
     "start_time": "2020-04-04T01:23:15.498177Z"
    }
   },
   "outputs": [],
   "source": [
    "import sys\n",
    "\n",
    "sys.path.append(\"../../codes/\")"
   ]
  },
  {
   "cell_type": "code",
   "execution_count": 2,
   "metadata": {
    "ExecuteTime": {
     "end_time": "2020-04-04T01:23:24.349857Z",
     "start_time": "2020-04-04T01:23:22.199739Z"
    }
   },
   "outputs": [],
   "source": [
    "import matplotlib.pyplot as plt\n",
    "import numpy as np\n",
    "import pandas as pd\n",
    "import pylab\n",
    "import seaborn as sns\n",
    "import statsmodels.api as sm\n",
    "from scipy.stats import probplot\n",
    "from sklearn.datasets import load_diabetes\n",
    "\n",
    "import utils"
   ]
  },
  {
   "cell_type": "code",
   "execution_count": 5,
   "metadata": {
    "ExecuteTime": {
     "end_time": "2020-04-04T01:27:30.493391Z",
     "start_time": "2020-04-04T01:27:30.479403Z"
    }
   },
   "outputs": [
    {
     "name": "stdout",
     "output_type": "stream",
     "text": [
      ".. _diabetes_dataset:\n",
      "\n",
      "Diabetes dataset\n",
      "----------------\n",
      "\n",
      "Ten baseline variables, age, sex, body mass index, average blood\n",
      "pressure, and six blood serum measurements were obtained for each of n =\n",
      "442 diabetes patients, as well as the response of interest, a\n",
      "quantitative measure of disease progression one year after baseline.\n",
      "\n",
      "**Data Set Characteristics:**\n",
      "\n",
      "  :Number of Instances: 442\n",
      "\n",
      "  :Number of Attributes: First 10 columns are numeric predictive values\n",
      "\n",
      "  :Target: Column 11 is a quantitative measure of disease progression one year after baseline\n",
      "\n",
      "  :Attribute Information:\n",
      "      - Age\n",
      "      - Sex\n",
      "      - Body mass index\n",
      "      - Average blood pressure\n",
      "      - S1\n",
      "      - S2\n",
      "      - S3\n",
      "      - S4\n",
      "      - S5\n",
      "      - S6\n",
      "\n",
      "Note: Each of these 10 feature variables have been mean centered and scaled by the standard deviation times `n_samples` (i.e. the sum of squares of each column totals 1).\n",
      "\n",
      "Source URL:\n",
      "https://www4.stat.ncsu.edu/~boos/var.select/diabetes.html\n",
      "\n",
      "For more information see:\n",
      "Bradley Efron, Trevor Hastie, Iain Johnstone and Robert Tibshirani (2004) \"Least Angle Regression,\" Annals of Statistics (with discussion), 407-499.\n",
      "(https://web.stanford.edu/~hastie/Papers/LARS/LeastAngle_2002.pdf)\n"
     ]
    }
   ],
   "source": [
    "df_dict = load_diabetes()\n",
    "print((df_dict['DESCR']))"
   ]
  },
  {
   "cell_type": "markdown",
   "metadata": {},
   "source": [
    ">Ten baseline variables, age, sex, body mass index, average blood pressure, and six blood serum measurements were obtained for each of n = 442 diabetes patients, as well as the response of interest, a quantitative measure of disease progression one year after baseline ([link](https://www4.stat.ncsu.edu/~boos/var.select/diabetes.html))"
   ]
  },
  {
   "cell_type": "code",
   "execution_count": 6,
   "metadata": {
    "ExecuteTime": {
     "end_time": "2020-04-04T01:27:33.346847Z",
     "start_time": "2020-04-04T01:27:33.342826Z"
    }
   },
   "outputs": [],
   "source": [
    "X = pd.DataFrame(df_dict['data'], columns=df_dict['feature_names'])\n",
    "y = df_dict['target']"
   ]
  },
  {
   "cell_type": "code",
   "execution_count": 7,
   "metadata": {
    "ExecuteTime": {
     "end_time": "2020-04-04T01:27:35.848447Z",
     "start_time": "2020-04-04T01:27:35.836466Z"
    }
   },
   "outputs": [
    {
     "data": {
      "text/html": [
       "<div>\n",
       "<style scoped>\n",
       "    .dataframe tbody tr th:only-of-type {\n",
       "        vertical-align: middle;\n",
       "    }\n",
       "\n",
       "    .dataframe tbody tr th {\n",
       "        vertical-align: top;\n",
       "    }\n",
       "\n",
       "    .dataframe thead th {\n",
       "        text-align: right;\n",
       "    }\n",
       "</style>\n",
       "<table border=\"1\" class=\"dataframe\">\n",
       "  <thead>\n",
       "    <tr style=\"text-align: right;\">\n",
       "      <th></th>\n",
       "      <th>age</th>\n",
       "      <th>sex</th>\n",
       "      <th>bmi</th>\n",
       "      <th>bp</th>\n",
       "      <th>s1</th>\n",
       "      <th>s2</th>\n",
       "      <th>s3</th>\n",
       "      <th>s4</th>\n",
       "      <th>s5</th>\n",
       "      <th>s6</th>\n",
       "    </tr>\n",
       "  </thead>\n",
       "  <tbody>\n",
       "    <tr>\n",
       "      <th>0</th>\n",
       "      <td>0.038076</td>\n",
       "      <td>0.050680</td>\n",
       "      <td>0.061696</td>\n",
       "      <td>0.021872</td>\n",
       "      <td>-0.044223</td>\n",
       "      <td>-0.034821</td>\n",
       "      <td>-0.043401</td>\n",
       "      <td>-0.002592</td>\n",
       "      <td>0.019908</td>\n",
       "      <td>-0.017646</td>\n",
       "    </tr>\n",
       "    <tr>\n",
       "      <th>1</th>\n",
       "      <td>-0.001882</td>\n",
       "      <td>-0.044642</td>\n",
       "      <td>-0.051474</td>\n",
       "      <td>-0.026328</td>\n",
       "      <td>-0.008449</td>\n",
       "      <td>-0.019163</td>\n",
       "      <td>0.074412</td>\n",
       "      <td>-0.039493</td>\n",
       "      <td>-0.068330</td>\n",
       "      <td>-0.092204</td>\n",
       "    </tr>\n",
       "    <tr>\n",
       "      <th>2</th>\n",
       "      <td>0.085299</td>\n",
       "      <td>0.050680</td>\n",
       "      <td>0.044451</td>\n",
       "      <td>-0.005671</td>\n",
       "      <td>-0.045599</td>\n",
       "      <td>-0.034194</td>\n",
       "      <td>-0.032356</td>\n",
       "      <td>-0.002592</td>\n",
       "      <td>0.002864</td>\n",
       "      <td>-0.025930</td>\n",
       "    </tr>\n",
       "    <tr>\n",
       "      <th>3</th>\n",
       "      <td>-0.089063</td>\n",
       "      <td>-0.044642</td>\n",
       "      <td>-0.011595</td>\n",
       "      <td>-0.036656</td>\n",
       "      <td>0.012191</td>\n",
       "      <td>0.024991</td>\n",
       "      <td>-0.036038</td>\n",
       "      <td>0.034309</td>\n",
       "      <td>0.022692</td>\n",
       "      <td>-0.009362</td>\n",
       "    </tr>\n",
       "    <tr>\n",
       "      <th>4</th>\n",
       "      <td>0.005383</td>\n",
       "      <td>-0.044642</td>\n",
       "      <td>-0.036385</td>\n",
       "      <td>0.021872</td>\n",
       "      <td>0.003935</td>\n",
       "      <td>0.015596</td>\n",
       "      <td>0.008142</td>\n",
       "      <td>-0.002592</td>\n",
       "      <td>-0.031991</td>\n",
       "      <td>-0.046641</td>\n",
       "    </tr>\n",
       "  </tbody>\n",
       "</table>\n",
       "</div>"
      ],
      "text/plain": [
       "        age       sex       bmi        bp        s1        s2        s3  \\\n",
       "0  0.038076  0.050680  0.061696  0.021872 -0.044223 -0.034821 -0.043401   \n",
       "1 -0.001882 -0.044642 -0.051474 -0.026328 -0.008449 -0.019163  0.074412   \n",
       "2  0.085299  0.050680  0.044451 -0.005671 -0.045599 -0.034194 -0.032356   \n",
       "3 -0.089063 -0.044642 -0.011595 -0.036656  0.012191  0.024991 -0.036038   \n",
       "4  0.005383 -0.044642 -0.036385  0.021872  0.003935  0.015596  0.008142   \n",
       "\n",
       "         s4        s5        s6  \n",
       "0 -0.002592  0.019908 -0.017646  \n",
       "1 -0.039493 -0.068330 -0.092204  \n",
       "2 -0.002592  0.002864 -0.025930  \n",
       "3  0.034309  0.022692 -0.009362  \n",
       "4 -0.002592 -0.031991 -0.046641  "
      ]
     },
     "execution_count": 7,
     "metadata": {},
     "output_type": "execute_result"
    }
   ],
   "source": [
    "X.head()"
   ]
  },
  {
   "cell_type": "code",
   "execution_count": 10,
   "metadata": {
    "ExecuteTime": {
     "end_time": "2020-04-04T01:30:37.077164Z",
     "start_time": "2020-04-04T01:30:36.604395Z"
    },
    "scrolled": false
   },
   "outputs": [
    {
     "data": {
      "image/png": "[encoded data removed]",
      "text/plain": [
       "<Figure size 648x576 with 2 Axes>"
      ]
     },
     "metadata": {
      "needs_background": "light"
     },
     "output_type": "display_data"
    }
   ],
   "source": [
    "labels = list(X.columns) + ['DiseaseProgression']\n",
    "\n",
    "fig, ax = plt.subplots(figsize=(9, 8))\n",
    "utils.corr_plot(ax, np.corrcoef(np.c_[X.values, y].T), labels=labels,\n",
    "                triangle=True, upper=False, annot_size=10)\n",
    "fig.tight_layout()"
   ]
  },
  {
   "cell_type": "code",
   "execution_count": 11,
   "metadata": {
    "ExecuteTime": {
     "end_time": "2020-04-04T01:32:14.138495Z",
     "start_time": "2020-04-04T01:32:14.114560Z"
    }
   },
   "outputs": [
    {
     "name": "stdout",
     "output_type": "stream",
     "text": [
      "                            OLS Regression Results                            \n",
      "==============================================================================\n",
      "Dep. Variable:                      y   R-squared:                       0.518\n",
      "Model:                            OLS   Adj. R-squared:                  0.507\n",
      "Method:                 Least Squares   F-statistic:                     46.27\n",
      "Date:                Fri, 03 Apr 2020   Prob (F-statistic):           3.83e-62\n",
      "Time:                        20:32:14   Log-Likelihood:                -2386.0\n",
      "No. Observations:                 442   AIC:                             4794.\n",
      "Df Residuals:                     431   BIC:                             4839.\n",
      "Df Model:                          10                                         \n",
      "Covariance Type:            nonrobust                                         \n",
      "==============================================================================\n",
      "                 coef    std err          t      P>|t|      [0.025      0.975]\n",
      "------------------------------------------------------------------------------\n",
      "const        152.1335      2.576     59.061      0.000     147.071     157.196\n",
      "age          -10.0122     59.749     -0.168      0.867    -127.448     107.424\n",
      "sex         -239.8191     61.222     -3.917      0.000    -360.151    -119.488\n",
      "bmi          519.8398     66.534      7.813      0.000     389.069     650.610\n",
      "bp           324.3904     65.422      4.958      0.000     195.805     452.976\n",
      "s1          -792.1842    416.684     -1.901      0.058   -1611.169      26.801\n",
      "s2           476.7458    339.035      1.406      0.160    -189.621    1143.113\n",
      "s3           101.0446    212.533      0.475      0.635    -316.685     518.774\n",
      "s4           177.0642    161.476      1.097      0.273    -140.313     494.442\n",
      "s5           751.2793    171.902      4.370      0.000     413.409    1089.150\n",
      "s6            67.6254     65.984      1.025      0.306     -62.065     197.316\n",
      "==============================================================================\n",
      "Omnibus:                        1.506   Durbin-Watson:                   2.029\n",
      "Prob(Omnibus):                  0.471   Jarque-Bera (JB):                1.404\n",
      "Skew:                           0.017   Prob(JB):                        0.496\n",
      "Kurtosis:                       2.726   Cond. No.                         227.\n",
      "==============================================================================\n",
      "\n",
      "Warnings:\n",
      "[1] Standard Errors assume that the covariance matrix of the errors is correctly specified.\n"
     ]
    },
    {
     "name": "stderr",
     "output_type": "stream",
     "text": [
      "D:\\Anaconda\\envs\\teaching\\lib\\site-packages\\numpy\\core\\fromnumeric.py:2495: FutureWarning: Method .ptp is deprecated and will be removed in a future version. Use numpy.ptp instead.\n",
      "  return ptp(axis=axis, out=out, **kwargs)\n"
     ]
    }
   ],
   "source": [
    "X_ = sm.add_constant(X)\n",
    "\n",
    "model = sm.OLS(y, X_).fit()\n",
    "print((model.summary()))"
   ]
  },
  {
   "cell_type": "markdown",
   "metadata": {},
   "source": [
    "## 1. MLR Assumtions and Model Diagnostics"
   ]
  },
  {
   "cell_type": "markdown",
   "metadata": {},
   "source": [
    "Wooldridge, Introductory Econometrics"
   ]
  },
  {
   "cell_type": "markdown",
   "metadata": {},
   "source": [
    "### MLR.1 Linear in Parameters"
   ]
  },
  {
   "cell_type": "markdown",
   "metadata": {},
   "source": [
    "**Population model** can be written as:\n",
    "\n",
    "$$y=\\beta_0+\\beta_1x_1+...+\\beta_kx_k+\\mu$$\n",
    "\n",
    "where $\\beta_0, \\beta_1, ..., \\beta_k$ are the unknown **parameters** (constants) of interest and $\\mu$ is an observed random error or disturbance term."
   ]
  },
  {
   "cell_type": "markdown",
   "metadata": {},
   "source": [
    "Note that $y$ and $x_i$ can take any functional form like natural logarithms ($i=1, 2, ..., k$)."
   ]
  },
  {
   "cell_type": "markdown",
   "metadata": {},
   "source": [
    "#### Testing"
   ]
  },
  {
   "cell_type": "code",
   "execution_count": 14,
   "metadata": {
    "ExecuteTime": {
     "end_time": "2020-04-04T01:39:19.189586Z",
     "start_time": "2020-04-04T01:39:18.849497Z"
    },
    "scrolled": true
   },
   "outputs": [
    {
     "data": {
      "image/png": "[encoded data removed]",
      "text/plain": [
       "<Figure size 432x288 with 1 Axes>"
      ]
     },
     "metadata": {
      "needs_background": "light"
     },
     "output_type": "display_data"
    }
   ],
   "source": [
    "predicted = model.predict(X_)\n",
    "sns.regplot(x=predicted, y=model.resid, line_kws={'color': \"red\"});\n",
    "plt.ylabel(\"residuals\");\n",
    "plt.xlabel(\"fitted values\");"
   ]
  },
  {
   "cell_type": "markdown",
   "metadata": {},
   "source": [
    "### MLR. 2 Random Sampling"
   ]
  },
  {
   "cell_type": "markdown",
   "metadata": {},
   "source": [
    "The sample of n observations is a random sample following the population model."
   ]
  },
  {
   "cell_type": "markdown",
   "metadata": {},
   "source": [
    "#### Testing"
   ]
  },
  {
   "cell_type": "code",
   "execution_count": 16,
   "metadata": {
    "ExecuteTime": {
     "end_time": "2020-04-04T01:45:52.481834Z",
     "start_time": "2020-04-04T01:45:52.353182Z"
    }
   },
   "outputs": [
    {
     "data": {
      "image/png": "[encoded data removed]",
      "text/plain": [
       "<Figure size 432x288 with 1 Axes>"
      ]
     },
     "metadata": {
      "needs_background": "light"
     },
     "output_type": "display_data"
    }
   ],
   "source": [
    "model.resid.plot();"
   ]
  },
  {
   "cell_type": "markdown",
   "metadata": {},
   "source": [
    "### MLR. 3 No Perfect Collinearity"
   ]
  },
  {
   "cell_type": "markdown",
   "metadata": {},
   "source": [
    "In the sample, none of the independent variables is constant and there are no exact linear relationships among the independent variables."
   ]
  },
  {
   "cell_type": "markdown",
   "metadata": {},
   "source": [
    "#### Testing:"
   ]
  },
  {
   "cell_type": "code",
   "execution_count": 19,
   "metadata": {
    "ExecuteTime": {
     "end_time": "2020-04-04T01:51:18.429283Z",
     "start_time": "2020-04-04T01:51:18.424262Z"
    }
   },
   "outputs": [
    {
     "data": {
      "text/plain": [
       "age    0.002268\n",
       "sex    0.002268\n",
       "bmi    0.002268\n",
       "bp     0.002268\n",
       "s1     0.002268\n",
       "s2     0.002268\n",
       "s3     0.002268\n",
       "s4     0.002268\n",
       "s5     0.002268\n",
       "s6     0.002268\n",
       "dtype: float64"
      ]
     },
     "execution_count": 19,
     "metadata": {},
     "output_type": "execute_result"
    }
   ],
   "source": [
    "X.var(axis=0)"
   ]
  },
  {
   "cell_type": "code",
   "execution_count": 22,
   "metadata": {
    "ExecuteTime": {
     "end_time": "2020-04-04T01:57:36.781799Z",
     "start_time": "2020-04-04T01:57:36.754869Z"
    }
   },
   "outputs": [
    {
     "name": "stdout",
     "output_type": "stream",
     "text": [
      "age: R^2 = 0.179\n",
      "sex: R^2 = 0.218\n",
      "bmi: R^2 = 0.338\n",
      "bp: R^2 = 0.315\n",
      "s1: R^2 = 0.983\n",
      "s2: R^2 = 0.974\n",
      "s3: R^2 = 0.935\n",
      "s4: R^2 = 0.888\n",
      "s5: R^2 = 0.901\n",
      "s6: R^2 = 0.326\n"
     ]
    }
   ],
   "source": [
    "for col in X.columns:\n",
    "    y_ = X[col]\n",
    "    X_sub = X[[c for c in X.columns if c != col]]\n",
    "    m = sm.OLS(y_, X_sub)\n",
    "    r2 = m.fit().rsquared\n",
    "    print(\"{}: R^2 = {:.3f}\".format(col, r2))\n",
    "    if r2 == 1:\n",
    "        print(\"%s violates MLR. 3.\" % col)"
   ]
  },
  {
   "cell_type": "markdown",
   "metadata": {},
   "source": [
    "#### Why is multicollinearity harmful?"
   ]
  },
  {
   "cell_type": "code",
   "execution_count": 36,
   "metadata": {
    "ExecuteTime": {
     "end_time": "2020-04-04T02:11:18.188839Z",
     "start_time": "2020-04-04T02:11:18.177861Z"
    }
   },
   "outputs": [],
   "source": [
    "X_test = X.copy(deep=True)\n",
    "X_test = X_test.applymap(lambda ele: ele*X_test.shape[0])"
   ]
  },
  {
   "cell_type": "code",
   "execution_count": 37,
   "metadata": {
    "ExecuteTime": {
     "end_time": "2020-04-04T02:11:18.461077Z",
     "start_time": "2020-04-04T02:11:18.442166Z"
    }
   },
   "outputs": [
    {
     "name": "stdout",
     "output_type": "stream",
     "text": [
      "                                 OLS Regression Results                                \n",
      "=======================================================================================\n",
      "Dep. Variable:                      y   R-squared (uncentered):                   0.106\n",
      "Model:                            OLS   Adj. R-squared (uncentered):              0.085\n",
      "Method:                 Least Squares   F-statistic:                              5.100\n",
      "Date:                Fri, 03 Apr 2020   Prob (F-statistic):                    4.72e-07\n",
      "Time:                        21:11:18   Log-Likelihood:                         -2873.9\n",
      "No. Observations:                 442   AIC:                                      5768.\n",
      "Df Residuals:                     432   BIC:                                      5809.\n",
      "Df Model:                          10                                                  \n",
      "Covariance Type:            nonrobust                                                  \n",
      "==============================================================================\n",
      "                 coef    std err          t      P>|t|      [0.025      0.975]\n",
      "------------------------------------------------------------------------------\n",
      "age            0.1658      0.317      0.523      0.601      -0.457       0.789\n",
      "sex           -0.3542      0.321     -1.102      0.271      -0.986       0.277\n",
      "bmi            1.1761      0.453      2.594      0.010       0.285       2.067\n",
      "bp             0.7339      0.446      1.646      0.100      -0.142       1.610\n",
      "s1            -1.7923      2.840     -0.631      0.528      -7.373       3.789\n",
      "s2             1.0786      2.310      0.467      0.641      -3.462       5.620\n",
      "s3             0.2286      1.448      0.158      0.875      -2.618       3.075\n",
      "s4             0.4006      1.100      0.364      0.716      -1.762       2.563\n",
      "s5             1.6997      1.171      1.451      0.148      -0.603       4.002\n",
      "s6             0.1530      0.450      0.340      0.734      -0.731       1.037\n",
      "s7            -0.1884      0.184     -1.021      0.308      -0.551       0.174\n",
      "==============================================================================\n",
      "Omnibus:                        1.506   Durbin-Watson:                   0.223\n",
      "Prob(Omnibus):                  0.471   Jarque-Bera (JB):                1.404\n",
      "Skew:                           0.017   Prob(JB):                        0.496\n",
      "Kurtosis:                       2.726   Cond. No.                     1.01e+16\n",
      "==============================================================================\n",
      "\n",
      "Warnings:\n",
      "[1] Standard Errors assume that the covariance matrix of the errors is correctly specified.\n",
      "[2] The smallest eigenvalue is 9.92e-27. This might indicate that there are\n",
      "strong multicollinearity problems or that the design matrix is singular.\n"
     ]
    }
   ],
   "source": [
    "X_test['s7'] = X_test.age + X_test.sex\n",
    "\n",
    "model_test = sm.OLS(y, X_test).fit()\n",
    "print((model_test.summary()))"
   ]
  },
  {
   "cell_type": "markdown",
   "metadata": {},
   "source": [
    "Linear algebra perspective: [Kunyu's blog](https://towardsdatascience.com/ridge-regression-and-multicollinearity-d8a3e06efce8)."
   ]
  },
  {
   "cell_type": "code",
   "execution_count": 38,
   "metadata": {
    "ExecuteTime": {
     "end_time": "2020-04-04T02:11:21.496215Z",
     "start_time": "2020-04-04T02:11:21.429396Z"
    },
    "scrolled": true
   },
   "outputs": [
    {
     "data": {
      "text/plain": [
       "array([[-5.38197582e+09, -5.38197582e+09, -1.37104638e-06,\n",
       "        -1.11127006e-06, -2.68714243e-05,  1.97856328e-05,\n",
       "         1.19304883e-05,  6.35569138e-06,  8.69692621e-06,\n",
       "         5.44896639e-07,  5.38197582e+09],\n",
       "       [-5.38197582e+09, -5.38197582e+09, -3.96141098e-07,\n",
       "        -1.13160898e-06, -2.55077061e-05,  1.97271112e-05,\n",
       "         1.38056771e-05,  4.72511834e-06,  9.93945627e-06,\n",
       "         9.40511650e-07,  5.38197582e+09],\n",
       "       [-1.39981321e-06, -4.24907926e-07,  7.72632541e-06,\n",
       "        -1.83253694e-06,  3.32293162e-06, -3.69346720e-06,\n",
       "         8.81703474e-07,  4.30572478e-07, -2.80408155e-06,\n",
       "        -1.15540901e-06,  1.44011631e-06],\n",
       "       [-1.10377998e-06, -1.12411889e-06, -1.83253694e-06,\n",
       "         7.47030457e-06, -1.76737091e-06,  9.02018100e-07,\n",
       "         8.02040088e-07,  1.67307886e-06, -1.11144729e-06,\n",
       "        -1.18716845e-06, -1.93574446e-07],\n",
       "       [-2.71487238e-05, -2.57850056e-05,  3.32293162e-06,\n",
       "        -1.76737091e-06,  3.03043476e-04, -2.37187069e-04,\n",
       "        -1.34518225e-04, -4.07840814e-05, -1.10722525e-04,\n",
       "         5.74056199e-07,  2.79503561e-05],\n",
       "       [ 1.98296600e-05,  1.97711383e-05, -3.69346720e-06,\n",
       "         9.02018100e-07, -2.37187069e-04,  2.00622322e-04,\n",
       "         9.52756542e-05,  1.30102963e-05,  9.05498193e-05,\n",
       "        -6.25202266e-07, -2.13036301e-05],\n",
       "       [ 1.17260735e-05,  1.36012624e-05,  8.81703474e-07,\n",
       "         8.02040088e-07, -1.34518225e-04,  9.52756542e-05,\n",
       "         7.88392548e-05,  3.96350008e-05,  4.56056820e-05,\n",
       "        -6.47071368e-07, -1.25519481e-05],\n",
       "       [ 6.74924845e-06,  5.11867541e-06,  4.30572478e-07,\n",
       "         1.67307886e-06, -4.07840814e-05,  1.30102963e-05,\n",
       "         3.96350008e-05,  4.55098494e-05,  4.46395575e-06,\n",
       "        -1.31651398e-06, -6.50400304e-06],\n",
       "       [ 8.61296713e-06,  9.85549719e-06, -2.80408155e-06,\n",
       "        -1.11144729e-06, -1.10722525e-04,  9.05498193e-05,\n",
       "         4.56056820e-05,  4.46395575e-06,  5.15766548e-05,\n",
       "        -1.76809149e-06, -9.71665356e-06],\n",
       "       [ 5.01858342e-07,  8.97473353e-07, -1.15540901e-06,\n",
       "        -1.18716845e-06,  5.74056199e-07, -6.25202266e-07,\n",
       "        -6.47071368e-07, -1.31651398e-06, -1.76809149e-06,\n",
       "         7.59926387e-06, -1.40781778e-06],\n",
       "       [ 5.38197582e+09,  5.38197582e+09,  1.41134948e-06,\n",
       "        -1.86084357e-07,  2.76730566e-05, -2.12596029e-05,\n",
       "        -1.27563628e-05, -6.11044597e-06, -9.80061264e-06,\n",
       "        -1.45085607e-06, -5.38197582e+09]])"
      ]
     },
     "execution_count": 38,
     "metadata": {},
     "output_type": "execute_result"
    }
   ],
   "source": [
    "X_test = X_test.values\n",
    "\n",
    "np.linalg.inv(X_test.T @ X_test)"
   ]
  },
  {
   "cell_type": "markdown",
   "metadata": {},
   "source": [
    "### MLR. 4 Zero Conditional Mean"
   ]
  },
  {
   "cell_type": "markdown",
   "metadata": {},
   "source": [
    "The error $\\mu$ has an expected value of zero given any values of the independent variables. In other words,\n",
    "\n",
    "$$E(\\mu|X)=0$$"
   ]
  },
  {
   "cell_type": "markdown",
   "metadata": {},
   "source": [
    "**UNBIASED ESTIMATES WITH MLR. 1 THROUGH MLR.4**"
   ]
  },
  {
   "cell_type": "markdown",
   "metadata": {},
   "source": [
    "### MLR 5. Homoskedasticity"
   ]
  },
  {
   "cell_type": "markdown",
   "metadata": {},
   "source": [
    "The error $\\mu$ has the same variance given any value of the explanatory variables. In other words,\n",
    "\n",
    "$$Var(\\mu|X)=\\sigma^2$$"
   ]
  },
  {
   "cell_type": "markdown",
   "metadata": {},
   "source": [
    "**BLUE: LOWEST VARIANCE AMONG ALL UNBIASED ESTIMATES**"
   ]
  },
  {
   "cell_type": "markdown",
   "metadata": {},
   "source": [
    "### MLR 6. Normality"
   ]
  },
  {
   "cell_type": "markdown",
   "metadata": {},
   "source": [
    "The population error $\\mu$ is independent of the explanatory variables and:\n",
    "\n",
    "$$\\mu \\sim N(0, \\sigma^2)$$"
   ]
  },
  {
   "cell_type": "markdown",
   "metadata": {},
   "source": [
    "#### Testing"
   ]
  },
  {
   "cell_type": "code",
   "execution_count": 40,
   "metadata": {
    "ExecuteTime": {
     "end_time": "2020-04-04T00:58:52.908318Z",
     "start_time": "2020-04-04T00:58:52.736746Z"
    }
   },
   "outputs": [
    {
     "data": {
      "image/png": "[encoded data removed]",
      "text/plain": [
       "<Figure size 432x288 with 1 Axes>"
      ]
     },
     "metadata": {
      "needs_background": "light"
     },
     "output_type": "display_data"
    }
   ],
   "source": [
    "probplot(model.resid, dist='norm', plot=pylab);"
   ]
  },
  {
   "cell_type": "code",
   "execution_count": 40,
   "metadata": {
    "ExecuteTime": {
     "end_time": "2020-04-04T02:22:46.042070Z",
     "start_time": "2020-04-04T02:22:46.038080Z"
    }
   },
   "outputs": [],
   "source": [
    "from scipy.stats import jarque_bera"
   ]
  },
  {
   "cell_type": "code",
   "execution_count": 41,
   "metadata": {
    "ExecuteTime": {
     "end_time": "2020-04-04T02:23:00.493097Z",
     "start_time": "2020-04-04T02:23:00.488108Z"
    }
   },
   "outputs": [
    {
     "data": {
      "text/plain": [
       "(1.4036025316898297, 0.49569162676119116)"
      ]
     },
     "execution_count": 41,
     "metadata": {},
     "output_type": "execute_result"
    }
   ],
   "source": [
    "jarque_bera(model.resid)"
   ]
  },
  {
   "cell_type": "markdown",
   "metadata": {},
   "source": [
    "## 2. Model Evaluation"
   ]
  },
  {
   "cell_type": "code",
   "execution_count": null,
   "metadata": {},
   "outputs": [],
   "source": []
  },
  {
   "cell_type": "code",
   "execution_count": null,
   "metadata": {},
   "outputs": [],
   "source": []
  },
  {
   "cell_type": "code",
   "execution_count": null,
   "metadata": {},
   "outputs": [],
   "source": []
  }
 ],
 "metadata": {
  "kernelspec": {
   "display_name": "Python 3",
   "language": "python",
   "name": "python3"
  },
  "language_info": {
   "codemirror_mode": {
    "name": "ipython",
    "version": 3
   },
   "file_extension": ".py",
   "mimetype": "text/x-python",
   "name": "python",
   "nbconvert_exporter": "python",
   "pygments_lexer": "ipython3",
   "version": "3.8.2"
  },
  "latex_envs": {
   "LaTeX_envs_menu_present": true,
   "autoclose": false,
   "autocomplete": true,
   "bibliofile": "biblio.bib",
   "cite_by": "apalike",
   "current_citInitial": 1,
   "eqLabelWithNumbers": true,
   "eqNumInitial": 1,
   "hotkeys": {
    "equation": "Ctrl-E",
    "itemize": "Ctrl-I"
   },
   "labels_anchors": false,
   "latex_user_defs": false,
   "report_style_numbering": false,
   "user_envs_cfg": false
  },
  "toc": {
   "base_numbering": 1,
   "nav_menu": {},
   "number_sections": false,
   "sideBar": true,
   "skip_h1_title": false,
   "title_cell": "Table of Contents",
   "title_sidebar": "Contents",
   "toc_cell": false,
   "toc_position": {},
   "toc_section_display": true,
   "toc_window_display": true
  }
 },
 "nbformat": 4,
 "nbformat_minor": 4
}
